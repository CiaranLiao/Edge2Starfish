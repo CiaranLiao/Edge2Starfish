{
 "cells": [
  {
   "cell_type": "code",
   "execution_count": 7,
   "id": "1808c818",
   "metadata": {},
   "outputs": [],
   "source": [
    "from PIL import Image\n",
    "import os\n",
    "\n",
    "input_folder = \"StarFish/val\"  # 输入文件夹路径，包含原始的 512x512 图像\n",
    "output_folder = \"Starfish256\"  # 输出文件夹路径，保存调整大小后的 256x256 图像\n",
    "\n",
    "# 遍历输入文件夹中的所有图像文件\n",
    "for filename in os.listdir(input_folder):\n",
    "    if filename.endswith(\".jpg\") or filename.endswith(\".jpeg\"):  # 仅处理 JPEG 格式图像\n",
    "        # 构建输入和输出文件的完整路径\n",
    "        input_path = os.path.join(input_folder, filename)\n",
    "        output_path = os.path.join(output_folder, filename)\n",
    "\n",
    "        # 打开图像文件\n",
    "        image = Image.open(input_path)\n",
    "\n",
    "        # 调整图像大小为 256x256\n",
    "        resized_image = image.resize((256, 256))\n",
    "\n",
    "        # 保存调整大小后的图像\n",
    "        resized_image.save(output_path)"
   ]
  },
  {
   "cell_type": "code",
   "execution_count": 9,
   "id": "84291127",
   "metadata": {},
   "outputs": [],
   "source": [
    "def generate_filenames(file_path):\n",
    "    # 提取文件名和文件扩展名\n",
    "    file_directory, file_name = file_path.rsplit('/', 1)\n",
    "    file_name, extension = file_name.rsplit('.', 1)\n",
    "\n",
    "    # 生成带有'e'的新文件名\n",
    "    new_file_name = f\"{file_name}e.{extension}\"\n",
    "\n",
    "    # 生成新的文件路径\n",
    "    new_file_path = f\"{file_directory}/{new_file_name}\"\n",
    "\n",
    "    return file_path, new_file_path"
   ]
  },
  {
   "cell_type": "code",
   "execution_count": 26,
   "id": "10bae7cb",
   "metadata": {},
   "outputs": [
    {
     "name": "stdout",
     "output_type": "stream",
     "text": [
      "图像模式: RGB\n"
     ]
    }
   ],
   "source": [
    "from PIL import Image\n",
    "\n",
    "image_path = 'Starfish256 - 副本/train/2e.jpg'\n",
    "image = Image.open(image_path)\n",
    "\n",
    "print(\"图像模式:\", image.mode)"
   ]
  },
  {
   "cell_type": "code",
   "execution_count": 24,
   "id": "31c6a7ce",
   "metadata": {},
   "outputs": [
    {
     "name": "stdout",
     "output_type": "stream",
     "text": [
      "转换后的图像模式: RGB\n"
     ]
    }
   ],
   "source": [
    "from PIL import Image\n",
    "\n",
    "# 假设已经将灰度图像转换为RGB模式，并保存在image_rgb变量中\n",
    "\n",
    "image_path = 'Starfish256 - 副本/train/1e.jpg'\n",
    "image = Image.open(image_path)\n",
    "\n",
    "# 将灰度图像转换为RGB模式\n",
    "image_rgb = image.convert('RGB')\n",
    "\n",
    "print(\"转换后的图像模式:\", image_rgb.mode)\n",
    "image_rgb.show()"
   ]
  },
  {
   "cell_type": "code",
   "execution_count": null,
   "id": "485db550",
   "metadata": {},
   "outputs": [],
   "source": [
    "Starfish256 - 副本"
   ]
  },
  {
   "cell_type": "code",
   "execution_count": 37,
   "id": "8eb7db9c",
   "metadata": {},
   "outputs": [
    {
     "name": "stdout",
     "output_type": "stream",
     "text": [
      "合成图片已保存为: Starfish256 - 副本/val\\10_c.jpg\n",
      "合成图片已保存为: Starfish256 - 副本/val\\1_c.jpg\n",
      "合成图片已保存为: Starfish256 - 副本/val\\2_c.jpg\n",
      "合成图片已保存为: Starfish256 - 副本/val\\3_c.jpg\n",
      "合成图片已保存为: Starfish256 - 副本/val\\4_c.jpg\n",
      "合成图片已保存为: Starfish256 - 副本/val\\5_c.jpg\n",
      "合成图片已保存为: Starfish256 - 副本/val\\6_c.jpg\n",
      "合成图片已保存为: Starfish256 - 副本/val\\7_c.jpg\n",
      "合成图片已保存为: Starfish256 - 副本/val\\8_c.jpg\n",
      "合成图片已保存为: Starfish256 - 副本/val\\9_c.jpg\n",
      "所有图片合成完成。\n"
     ]
    }
   ],
   "source": [
    "import os\n",
    "from PIL import Image\n",
    "\n",
    "def combine_images_folder(folder_path):\n",
    "    # 获取文件夹中的所有文件\n",
    "    files = os.listdir(folder_path)\n",
    "\n",
    "    for file in files:\n",
    "        # 提取文件名和扩展名\n",
    "        filename, extension = os.path.splitext(file)\n",
    "\n",
    "        # 检查文件是否以 'e.jpg' 结尾\n",
    "        if extension == '.jpg' and filename.endswith('e'):\n",
    "            # 构建对应的原始图片文件名\n",
    "            original_filename = filename[:-1] + '.jpg'\n",
    "\n",
    "            # 检查原始图片文件是否存在\n",
    "            if original_filename in files:\n",
    "                # 打开原始图片和对应的 'e.jpg' 图片\n",
    "                original_image_path = os.path.join(folder_path, original_filename)\n",
    "                enhanced_image_path = os.path.join(folder_path, file)\n",
    "                original_image = Image.open(original_image_path)\n",
    "                enhanced_image = Image.open(enhanced_image_path)\n",
    "\n",
    "                # 创建新的合成图片\n",
    "                new_image = Image.new('RGB', (original_image.width + enhanced_image.width, original_image.height))\n",
    "\n",
    "                # 将原始图片粘贴到左侧\n",
    "                new_image.paste(original_image, (0, 0))\n",
    "\n",
    "                # 将 'e.jpg' 图片粘贴到右侧\n",
    "                new_image.paste(enhanced_image, (original_image.width, 0))\n",
    "\n",
    "                # 保存合成后的图片\n",
    "                output_filename = os.path.join(folder_path, filename[:-1] + '_c.jpg')\n",
    "                new_image.save(output_filename)\n",
    "\n",
    "                print(f\"合成图片已保存为: {output_filename}\")\n",
    "\n",
    "    print(\"所有图片合成完成。\")\n",
    "\n",
    "\n",
    "# 调用函数，传入文件夹路径\n",
    "folder_path = 'Starfish256 - 副本/val'\n",
    "combine_images_folder(folder_path)"
   ]
  }
 ],
 "metadata": {
  "kernelspec": {
   "display_name": "Python 3 (ipykernel)",
   "language": "python",
   "name": "python3"
  },
  "language_info": {
   "codemirror_mode": {
    "name": "ipython",
    "version": 3
   },
   "file_extension": ".py",
   "mimetype": "text/x-python",
   "name": "python",
   "nbconvert_exporter": "python",
   "pygments_lexer": "ipython3",
   "version": "3.10.9"
  }
 },
 "nbformat": 4,
 "nbformat_minor": 5
}
