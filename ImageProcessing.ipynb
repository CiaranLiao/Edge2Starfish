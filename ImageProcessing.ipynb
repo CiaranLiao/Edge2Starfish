{
 "cells": [
  {
   "cell_type": "code",
   "execution_count": 7,
   "id": "1808c818",
   "metadata": {},
   "outputs": [],
   "source": [
    "from PIL import Image\n",
    "import os\n",
    "\n",
    "input_folder = \"StarFish/val\"  \n",
    "output_folder = \"Starfish256\"  \n",
    "\n",
    "for filename in os.listdir(input_folder):\n",
    "    if filename.endswith(\".jpg\") or filename.endswith(\".jpeg\"):          \n",
    "        input_path = os.path.join(input_folder, filename)\n",
    "        output_path = os.path.join(output_folder, filename)\n",
    "        image = Image.open(input_path)                \n",
    "        resized_image = image.resize((256, 256))# resize 256x256\n",
    "        resized_image.save(output_path)"
   ]
  },
  {
   "cell_type": "code",
   "execution_count": 26,
   "id": "10bae7cb",
   "metadata": {},
   "outputs": [
    {
     "name": "stdout",
     "output_type": "stream",
     "text": [
      "图像模式: RGB\n"
     ]
    }
   ],
   "source": [
    "from PIL import Image\n",
    "\n",
    "image_path = 'Starfish256 - 副本/train/2e.jpg'\n",
    "image = Image.open(image_path)\n",
    "\n",
    "print(\"图像模式:\", image.mode)"
   ]
  },
  {
   "cell_type": "code",
   "execution_count": 24,
   "id": "31c6a7ce",
   "metadata": {},
   "outputs": [
    {
     "name": "stdout",
     "output_type": "stream",
     "text": [
      "转换后的图像模式: RGB\n"
     ]
    }
   ],
   "source": [
    "from PIL import Image\n",
    "\n",
    "image_path = 'Starfish256 - 副本/train/1e.jpg'\n",
    "image = Image.open(image_path)\n",
    "\n",
    "image_rgb = image.convert('RGB')\n",
    "\n",
    "print(\"转换后的图像模式:\", image_rgb.mode)\n",
    "image_rgb.show()"
   ]
  },
  {
   "cell_type": "code",
   "execution_count": null,
   "id": "485db550",
   "metadata": {},
   "outputs": [],
   "source": [
    "Starfish256 - 副本"
   ]
  },
  {
   "cell_type": "code",
   "execution_count": 37,
   "id": "8eb7db9c",
   "metadata": {},
   "outputs": [
    {
     "name": "stdout",
     "output_type": "stream",
     "text": [
      "合成图片已保存为: Starfish256 - 副本/val\\10_c.jpg\n",
      "合成图片已保存为: Starfish256 - 副本/val\\1_c.jpg\n",
      "合成图片已保存为: Starfish256 - 副本/val\\2_c.jpg\n",
      "合成图片已保存为: Starfish256 - 副本/val\\3_c.jpg\n",
      "合成图片已保存为: Starfish256 - 副本/val\\4_c.jpg\n",
      "合成图片已保存为: Starfish256 - 副本/val\\5_c.jpg\n",
      "合成图片已保存为: Starfish256 - 副本/val\\6_c.jpg\n",
      "合成图片已保存为: Starfish256 - 副本/val\\7_c.jpg\n",
      "合成图片已保存为: Starfish256 - 副本/val\\8_c.jpg\n",
      "合成图片已保存为: Starfish256 - 副本/val\\9_c.jpg\n",
      "所有图片合成完成。\n"
     ]
    }
   ],
   "source": [
    "import os\n",
    "from PIL import Image\n",
    "\n",
    "def combine_images_folder(folder_path):\n",
    "    files = os.listdir(folder_path)\n",
    "\n",
    "    for file in files:\n",
    "        # Extract the filename and extension\n",
    "        filename, extension = os.path.splitext(file)\n",
    "\n",
    "        # Check if the file ends with 'e.jpg'\n",
    "        if extension == '.jpg' and filename.endswith('e'):\n",
    "            # Build the corresponding original image filename\n",
    "            original_filename = filename[:-1] + '.jpg'\n",
    "\n",
    "            # Check if the original image file exists\n",
    "            if original_filename in files:\n",
    "                # Open the original image and the corresponding 'e.jpg' image\n",
    "                original_image_path = os.path.join(folder_path, original_filename)\n",
    "                enhanced_image_path = os.path.join(folder_path, file)\n",
    "                original_image = Image.open(original_image_path)\n",
    "                enhanced_image = Image.open(enhanced_image_path)\n",
    "\n",
    "                # Create a new composite image\n",
    "                new_image = Image.new('RGB', (original_image.width + enhanced_image.width, original_image.height))\n",
    "\n",
    "                # Paste the original image on the left side\n",
    "                new_image.paste(original_image, (0, 0))\n",
    "\n",
    "                # Paste the 'e.jpg' image on the right side\n",
    "                new_image.paste(enhanced_image, (original_image.width, 0))\n",
    "\n",
    "                # save\n",
    "                output_filename = os.path.join(folder_path, filename[:-1] + '_c.jpg')\n",
    "                new_image.save(output_filename)\n",
    "\n",
    "                print(f\"合成图片已保存为: {output_filename}\")\n",
    "\n",
    "    print(\"所有图片合成完成。\")\n",
    "\n",
    "\n",
    "folder_path = 'Starfish256 - 副本/val'\n",
    "combine_images_folder(folder_path)"
   ]
  }
 ],
 "metadata": {
  "kernelspec": {
   "display_name": "Python 3 (ipykernel)",
   "language": "python",
   "name": "python3"
  },
  "language_info": {
   "codemirror_mode": {
    "name": "ipython",
    "version": 3
   },
   "file_extension": ".py",
   "mimetype": "text/x-python",
   "name": "python",
   "nbconvert_exporter": "python",
   "pygments_lexer": "ipython3",
   "version": "3.10.9"
  }
 },
 "nbformat": 4,
 "nbformat_minor": 5
}
